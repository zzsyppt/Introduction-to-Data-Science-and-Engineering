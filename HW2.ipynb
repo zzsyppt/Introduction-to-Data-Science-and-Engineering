{
 "cells": [
  {
   "cell_type": "markdown",
   "metadata": {},
   "source": [
    "1. 编写 Python 程序，求两个正整数的最大公约数。"
   ]
  },
  {
   "cell_type": "code",
   "execution_count": 217,
   "metadata": {},
   "outputs": [
    {
     "name": "stdout",
     "output_type": "stream",
     "text": [
      "3\n"
     ]
    }
   ],
   "source": [
    "def gcd(a, b):\n",
    "    while b:\n",
    "        a, b = b, a % b\n",
    "    return a\n",
    "\n",
    "# 测试样例\n",
    "print(gcd(6,15))"
   ]
  },
  {
   "cell_type": "markdown",
   "metadata": {},
   "source": [
    "2. 用if语句实现百分制转等级制（考试成绩，60分以下不合格，60—74分合格，75—89分为良好，90分以上为优秀）。"
   ]
  },
  {
   "cell_type": "code",
   "execution_count": 218,
   "metadata": {},
   "outputs": [
    {
     "name": "stdout",
     "output_type": "stream",
     "text": [
      "合格\n"
     ]
    }
   ],
   "source": [
    "def grade_convert(score):\n",
    "    if score < 60:\n",
    "        return '不合格'\n",
    "    elif 60 <= score < 75:\n",
    "        return '合格'\n",
    "    elif 75 <= score < 90:\n",
    "        return '良好'\n",
    "    elif score >= 90:\n",
    "        return '优秀'\n",
    "    else:\n",
    "        return '数据不符合要求'\n",
    "\n",
    "# 测试样例\n",
    "print(grade_convert(70))"
   ]
  },
  {
   "cell_type": "markdown",
   "metadata": {},
   "source": [
    "3. 编写Python程序，完成十进制小数到二进制小数的转换。相关数学原理https://cloud.tencent.com/developer/article/2155741"
   ]
  },
  {
   "cell_type": "code",
   "execution_count": 219,
   "metadata": {},
   "outputs": [
    {
     "name": "stdout",
     "output_type": "stream",
     "text": [
      "10000.1101\n"
     ]
    }
   ],
   "source": [
    "def D2B_integer(n):\n",
    "    res = ''\n",
    "    while n:\n",
    "        res = res + str(n % 2)\n",
    "        n = n // 2  # a//b:两个数相除，结果为向下取整的整数（整除）; a/b:两个数相除，结果为浮点数\n",
    "    # 字符串逆序：利用字符串切片[a:b:c]，其中a为起始位置（默认0），b为结束位置（默认-1），c为步长（默认1）\n",
    "    return res[::-1]\n",
    "\n",
    "def D2B_float(n):\n",
    "    # 乘2取整，顺序排列\n",
    "    res = ''\n",
    "    f = n - int(n)\n",
    "    while f:\n",
    "        f *= 2\n",
    "        res += str(int(f))\n",
    "        f -= int(f)\n",
    "    return D2B_integer(int(n)) + '.' + res\n",
    "\n",
    "# 测试样例\n",
    "print(D2B_float(16.8125))"
   ]
  },
  {
   "cell_type": "markdown",
   "metadata": {},
   "source": [
    "4. 编写Python程序，产生10-20的随机浮点数"
   ]
  },
  {
   "cell_type": "code",
   "execution_count": 220,
   "metadata": {},
   "outputs": [
    {
     "name": "stdout",
     "output_type": "stream",
     "text": [
      "18.29671556804288\n"
     ]
    }
   ],
   "source": [
    "# 生成10-20之间的随机浮点数\n",
    "def random_float_10_20():\n",
    "    import random\n",
    "    return random.uniform(10, 20)\n",
    "\n",
    "# 测试样例\n",
    "print(random_float_10_20())"
   ]
  },
  {
   "cell_type": "markdown",
   "metadata": {},
   "source": [
    "5. 编写一个Python函数，判断一个整数是否是回文数。回文数是指正序（从左向右）和倒序（从右向左）读都是一样的数。"
   ]
  },
  {
   "cell_type": "code",
   "execution_count": 221,
   "metadata": {},
   "outputs": [
    {
     "name": "stdout",
     "output_type": "stream",
     "text": [
      "True\n"
     ]
    }
   ],
   "source": [
    "def is_palindrome(n):\n",
    "    return str(n) == str(n)[::-1]\n",
    "\n",
    "# 测试样例\n",
    "print(is_palindrome(1234321))"
   ]
  },
  {
   "cell_type": "markdown",
   "metadata": {},
   "source": [
    "6. 编写一个Python函数，返回一个包含斐波那契数列的前N个数的列表。斐波那契数列是一个数列，其中每个数是前两个数的和，数列以0和1开始。"
   ]
  },
  {
   "cell_type": "code",
   "execution_count": 222,
   "metadata": {},
   "outputs": [
    {
     "name": "stdout",
     "output_type": "stream",
     "text": [
      "[0, 1, 1, 2, 3, 5, 8, 13, 21, 34]\n"
     ]
    }
   ],
   "source": [
    "# 返回一个包含斐波那契数列的前N个数的列表\n",
    "def fib_list(n):\n",
    "    res = [0, 1]\n",
    "    for i in range(2, n):\n",
    "        res.append(res[i - 1] + res[i - 2])\n",
    "    return res\n",
    "\n",
    "# 测试样例\n",
    "print(fib_list(10))\n"
   ]
  },
  {
   "cell_type": "markdown",
   "metadata": {},
   "source": [
    "7. 编写一个Python函数，接受一个整数数组作为输入，返回数组中第二大的数。如果数组中只有一个元素或数组为空，则返回-1。"
   ]
  },
  {
   "cell_type": "code",
   "execution_count": 223,
   "metadata": {},
   "outputs": [
    {
     "name": "stdout",
     "output_type": "stream",
     "text": [
      "3\n"
     ]
    }
   ],
   "source": [
    "def get_second_biggest(l):\n",
    "    if len(l) <= 1:\n",
    "        return -1\n",
    "    else:\n",
    "        l.sort()\n",
    "        return l[-2]\n",
    "\n",
    "# 测试样例\n",
    "print(get_second_biggest([1, 2, 3, 4]))"
   ]
  },
  {
   "cell_type": "markdown",
   "metadata": {},
   "source": [
    "8. 编写一个函数，使其能够用正则表达式的方式简单验证身份证号是否合法。"
   ]
  },
  {
   "cell_type": "code",
   "execution_count": 224,
   "metadata": {},
   "outputs": [
    {
     "name": "stdout",
     "output_type": "stream",
     "text": [
      "True\n"
     ]
    }
   ],
   "source": [
    "# 可以验证：生日范围在1900.1.1到2024.12.31之间，且无非法日期\n",
    "def validate_id_card(id_number):\n",
    "     location = '([1-9]\\d{5})'\n",
    "     # 一个整数的末尾两位数能被4整除则这个数能被4整除\n",
    "     # 即：最后两位数，如果十位是单数，个位就是2或6；如果十位是双数，个位就是0、4、8\n",
    "     # 1900年是平年，2000年是闰年\n",
    "     # 简化思路：判断分为两部分，一部分是闰年的2月29日，另一部分是平年的所有日子\n",
    "     ymd_leap229 = '((19(0[48]|[13579][26]|[2468][048])|(200[048]|201[26]|202[04]))0229)'\n",
    "     ymd_others = '(((19([0-9][0-9])|(20([0-1][0-9]|202[0-4])))(((0[13578]|1[02])([0-2][0-9]|3[0-1]))|((0[469]|11)([0-2][0-9]|30))|(02([0-2][0-8])))))'\n",
    "     last4 = '\\d{3}(\\d|x|X)'\n",
    "\n",
    "     # 拼凑正则表达式\n",
    "     s = location + '(' + ymd_leap229 + '|' + ymd_others + ')' + last4 + '$'\n",
    "     import re\n",
    "     p = re.compile(s)\n",
    "     if p.match(id_number):\n",
    "         return True\n",
    "     else:\n",
    "         return False\n",
    "\n",
    "# 测试样例\n",
    "a = '37040320121018034X'\n",
    "print(validate_id_card(a))"
   ]
  }
 ],
 "metadata": {
  "kernelspec": {
   "display_name": "my_kernal(base)",
   "language": "python",
   "name": "base"
  },
  "language_info": {
   "codemirror_mode": {
    "name": "ipython",
    "version": 3
   },
   "file_extension": ".py",
   "mimetype": "text/x-python",
   "name": "python",
   "nbconvert_exporter": "python",
   "pygments_lexer": "ipython3",
   "version": "3.11.7"
  }
 },
 "nbformat": 4,
 "nbformat_minor": 2
}
