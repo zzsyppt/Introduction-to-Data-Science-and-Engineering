{
 "cells": [
  {
   "cell_type": "markdown",
   "metadata": {},
   "source": [
    "1. 编写 Python程序,判断输入a是否为质数"
   ]
  },
  {
   "cell_type": "code",
   "execution_count": 207,
   "metadata": {},
   "outputs": [
    {
     "name": "stdout",
     "output_type": "stream",
     "text": [
      "False\n"
     ]
    }
   ],
   "source": [
    "def is_prime(a):\n",
    "    if a <= 1:\n",
    "        return False\n",
    "    for i in range(2, a):\n",
    "        if a % i == 0:\n",
    "            return False\n",
    "    return True\n",
    "\n",
    "# 测试样例\n",
    "print(is_prime(16)) "
   ]
  },
  {
   "cell_type": "markdown",
   "metadata": {},
   "source": [
    "2. 用Python实现插入排序该算法，不允许直接调用插入排序函数，需要手动实现其逻辑过程。"
   ]
  },
  {
   "cell_type": "code",
   "execution_count": 208,
   "metadata": {},
   "outputs": [
    {
     "name": "stdout",
     "output_type": "stream",
     "text": [
      "[12, 13, 32, 99, 100]\n"
     ]
    }
   ],
   "source": [
    "def insert_sort(arr):\n",
    "    for i in range(1, len(arr)):\n",
    "        key = arr[i]\n",
    "        j = i - 1\n",
    "        while j >= 0 and key < arr[j]:\n",
    "            arr[j + 1] = arr[j]\n",
    "            j -= 1\n",
    "        arr[j + 1] = key\n",
    "\n",
    "# 测试样例\n",
    "arr = [12, 100, 13, 99, 32]\n",
    "insert_sort(arr)\n",
    "print(arr)"
   ]
  },
  {
   "cell_type": "markdown",
   "metadata": {},
   "source": [
    "3. 用Python实现选择排序该算法，不允许直接调用选择排序函数，需要手动实现其逻辑过程"
   ]
  },
  {
   "cell_type": "code",
   "execution_count": 209,
   "metadata": {},
   "outputs": [
    {
     "name": "stdout",
     "output_type": "stream",
     "text": [
      "[12, 13, 32, 99, 100]\n"
     ]
    }
   ],
   "source": [
    "def select_sort(arr):\n",
    "    for i in range(len(arr)):\n",
    "        min_index = i\n",
    "        for j in range(i + 1, len(arr)):\n",
    "            if arr[j] < arr[min_index]:\n",
    "                min_index = j\n",
    "        arr[i], arr[min_index] = arr[min_index], arr[i]\n",
    "\n",
    "# 测试样例\n",
    "arr = [12, 100, 13, 99, 32]\n",
    "select_sort(arr)\n",
    "print(arr)"
   ]
  },
  {
   "cell_type": "markdown",
   "metadata": {},
   "source": [
    "4. 用Python实现快速排序该算法，不允许直接调用快速排序函数，需要手动实现其逻辑过程。"
   ]
  },
  {
   "cell_type": "code",
   "execution_count": 210,
   "metadata": {},
   "outputs": [
    {
     "name": "stdout",
     "output_type": "stream",
     "text": [
      "[12, 13, 32, 99, 100]\n"
     ]
    }
   ],
   "source": [
    "def quick_sort(arr, p = 0, r = len(arr) - 1):\n",
    "    if p < r:\n",
    "        q = partition(arr, p, r)\n",
    "        quick_sort(arr, p, q - 1)\n",
    "        quick_sort(arr, q + 1, r)\n",
    "\n",
    "def partition(arr, p, r):\n",
    "    pivot = arr[r]\n",
    "    i = p - 1\n",
    "    for j in range(p, r):\n",
    "        if arr[j] <= pivot:\n",
    "            i += 1\n",
    "            arr[i], arr[j] = arr[j], arr[i]\n",
    "    arr[i + 1], arr[r] = arr[r], arr[i + 1]\n",
    "    return i + 1\n",
    "\n",
    "# 测试样例\n",
    "arr = [12, 100, 13, 99, 32]\n",
    "quick_sort(arr, 0, len(arr) - 1)\n",
    "print(arr)"
   ]
  },
  {
   "cell_type": "markdown",
   "metadata": {},
   "source": [
    "5. 使用 Python 随机生成三组长度递增的随机数列，长度分别为100、1000、10000，对生成的随机数组使用不同的排序算法，例如选择排序和归并排序，至少三种排序方法。对这些数列的数据排序，并分析不同排序算法在不同长度数列下的运行效果，例如运行时间等指标。（可以使用排序函数）"
   ]
  },
  {
   "cell_type": "code",
   "execution_count": 211,
   "metadata": {},
   "outputs": [
    {
     "data": {
      "image/png": "[encoded data removed]",
      "text/plain": [
       "<Figure size 640x480 with 1 Axes>"
      ]
     },
     "metadata": {},
     "output_type": "display_data"
    },
    {
     "name": "stdout",
     "output_type": "stream",
     "text": [
      "time_insert_sort: [0.0001747000001159904, 0.021713200000249344, 1.6713721000000987]\n",
      "time_select_sort: [0.0001855000000432483, 0.01790389999996478, 1.7466942000000927]\n",
      "time_quick_sort: [1.1000000085914508e-05, 4.300000000512227e-06, 3.000000106112566e-06]\n"
     ]
    }
   ],
   "source": [
    "# 随机生成三组长度递增的随机数列，长度分别为100、1000、10000，取值范围为0-100000\n",
    "import random\n",
    "arr1 = random.sample(range(100000), 100)\n",
    "arr2 = random.sample(range(100000), 1000)\n",
    "arr3 = random.sample(range(100000), 10000)\n",
    "\n",
    "# 分析运行时间\n",
    "import timeit\n",
    "import matplotlib.pyplot as plt\n",
    "\n",
    "def test_sort(f_sort, arr):\n",
    "    start = timeit.default_timer()\n",
    "    f_sort(arr)\n",
    "    end = timeit.default_timer()\n",
    "    return end - start\n",
    "\n",
    "time_insert_sort = [test_sort(insert_sort, arr1), test_sort(insert_sort, arr2), test_sort(insert_sort, arr3)]\n",
    "time_select_sort = [test_sort(select_sort, arr1), test_sort(select_sort, arr2), test_sort(select_sort, arr3)]\n",
    "time_quick_sort = [test_sort(quick_sort, arr1), test_sort(quick_sort, arr2), test_sort(quick_sort, arr3)]\n",
    "\n",
    "plt.plot([100, 1000, 10000], time_insert_sort, label='insert_sort')\n",
    "plt.plot([100, 1000, 10000], time_select_sort, label='select_sort')\n",
    "plt.plot([100, 1000, 10000], time_quick_sort, label='quick_sort')\n",
    "\n",
    "plt.xscale('log')\n",
    "plt.xlabel('N')\n",
    "plt.ylabel('T(s)')\n",
    "plt.legend()\n",
    "plt.show()\n",
    "\n",
    "print(\"time_insert_sort: \" + str(time_insert_sort))\n",
    "print(\"time_select_sort: \"+ str(time_select_sort))\n",
    "print(\"time_quick_sort: \"+ str(time_quick_sort))\n"
   ]
  },
  {
   "cell_type": "markdown",
   "metadata": {},
   "source": [
    "6. 使用python代码获取当前系统时间"
   ]
  },
  {
   "cell_type": "code",
   "execution_count": 212,
   "metadata": {},
   "outputs": [
    {
     "name": "stdout",
     "output_type": "stream",
     "text": [
      "2024-10-22 12:50:31\n"
     ]
    }
   ],
   "source": [
    "import time\n",
    "print(time.strftime('%Y-%m-%d %H:%M:%S',time.localtime(time.time())))\n"
   ]
  },
  {
   "cell_type": "markdown",
   "metadata": {},
   "source": [
    "7. data文件夹下的stuGrade.csv文件中包含5位同学的学号、语文成绩、数学成绩和英语成绩，请先用记事本打开该文件，查看文件内容，然后编写Python程序，读取该文件，并计算出各科的平均成绩（保留2位小数）。"
   ]
  },
  {
   "cell_type": "code",
   "execution_count": 213,
   "metadata": {},
   "outputs": [
    {
     "name": "stdout",
     "output_type": "stream",
     "text": [
      "   stuID  chinese  math  english\n",
      "0  10381       74    87       82\n",
      "1  10382       92    88       90\n",
      "2  10383       87    82       81\n",
      "3  10384       98    97       96\n",
      "4  10385       62    51       60\n",
      "语文平均成绩：82.60\n",
      "数学平均成绩：81.00\n",
      "英语平均成绩：81.80\n"
     ]
    }
   ],
   "source": [
    "import pandas as pd\n",
    "df = pd.read_csv('data/stuGrade.csv')\n",
    "print(df)\n",
    "print(\"语文平均成绩：\", end = '')\n",
    "print('{:.2f}'.format(df['chinese'].mean()))\n",
    "print(\"数学平均成绩：\", end = '')\n",
    "print('{:.2f}'.format(df['math'].mean()))\n",
    "print(\"英语平均成绩：\", end = '')\n",
    "print('{:.2f}'.format(df['english'].mean()))"
   ]
  },
  {
   "cell_type": "markdown",
   "metadata": {},
   "source": [
    "8. 请在第7题的代码继续编写Python程序，将以下内容写入my.txt文件中，一并上传到github中。\n",
    "\n",
    "    **第1行**：你的学号和姓名\n",
    "\n",
    "    **第2行**：3门课程的平均成绩（任意课程），保留2位小数，以英文逗号间隔\n",
    "\n",
    "    **第3行**：系统当前时间，格式例如2020-01-01 12:00:00\n",
    "\n",
    "    **第4行**：两秒后的系统当前时间（利用sleep()方法）"
   ]
  },
  {
   "cell_type": "code",
   "execution_count": 214,
   "metadata": {},
   "outputs": [],
   "source": [
    "profile = \"10235501419 李佳亮\"\n",
    "avg_grade = \"80.00, 81.00, 82.00\"\n",
    "\n",
    "time1 = time.strftime(\"%Y-%m-%d %H:%M:%S\", time.localtime())\n",
    "time.sleep(2)\n",
    "time2 = time.strftime(\"%Y-%m-%d %H:%M:%S\", time.localtime())\n",
    "\n",
    "with open(\"my.txt\", \"w\") as file:\n",
    "    file.write(profile + \"\\n\" + avg_grade + '\\n' + time1 + '\\n' + time2)"
   ]
  }
 ],
 "metadata": {
  "kernelspec": {
   "display_name": "my_kernal(base)",
   "language": "python",
   "name": "base"
  },
  "language_info": {
   "codemirror_mode": {
    "name": "ipython",
    "version": 3
   },
   "file_extension": ".py",
   "mimetype": "text/x-python",
   "name": "python",
   "nbconvert_exporter": "python",
   "pygments_lexer": "ipython3",
   "version": "3.11.7"
  }
 },
 "nbformat": 4,
 "nbformat_minor": 2
}
