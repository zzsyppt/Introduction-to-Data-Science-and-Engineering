{
 "cells": [
  {
   "cell_type": "markdown",
   "metadata": {},
   "source": [
    "1.编写Python程序，打印\"数据科学与工程导论\"，并使用 print(chr(0x2605)) 语句将星星包围起来"
   ]
  },
  {
   "cell_type": "code",
   "execution_count": 160,
   "metadata": {},
   "outputs": [
    {
     "name": "stdout",
     "output_type": "stream",
     "text": [
      "★★★★★★★★★★★\n",
      "★数据科学与工程导论★\n",
      "★★★★★★★★★★★\n"
     ]
    }
   ],
   "source": [
    "print(chr(0x2605)*11)\n",
    "print(chr(0x2605)+\"数据科学与工程导论\"+chr(0x2605))\n",
    "print(chr(0x2605)*11)"
   ]
  },
  {
   "cell_type": "markdown",
   "metadata": {},
   "source": [
    "2.写一个 Python 程序，输入 x, y, z 这三个数，将这三个数从小到大使用 print 函数打印出来"
   ]
  },
  {
   "cell_type": "code",
   "execution_count": 161,
   "metadata": {},
   "outputs": [
    {
     "name": "stdout",
     "output_type": "stream",
     "text": [
      "3 9 12\n"
     ]
    }
   ],
   "source": [
    "# x = eval(input())\n",
    "# y = eval(input())\n",
    "# z = eval(input())\n",
    "x, y, z = 12, 3, 9    # 测试样例\n",
    "if x > y:\n",
    "    x,y = y,x\n",
    "if x > z:\n",
    "    x,z = z,x\n",
    "if y > z:\n",
    "    y,z = z,y\n",
    "print(x,y,z)"
   ]
  },
  {
   "cell_type": "markdown",
   "metadata": {},
   "source": [
    "3.写一个 Python 程序，有 w, x, y, z 四个数，将这四个数从大到小使用 print 函数打印出来"
   ]
  },
  {
   "cell_type": "code",
   "execution_count": 162,
   "metadata": {},
   "outputs": [
    {
     "name": "stdout",
     "output_type": "stream",
     "text": [
      "15 13 12 11\n"
     ]
    }
   ],
   "source": [
    "w, x, y, z = 13, 15, 12, 11\n",
    "# 比较排序\n",
    "if w < x:\n",
    "    w, x = x, w\n",
    "if w < y:\n",
    "    w, y = y, w\n",
    "if w < z:\n",
    "    w, z = z, w\n",
    "if x < y:\n",
    "    x, y = y, x\n",
    "if x < z:\n",
    "    x, z = z, x\n",
    "if y < z:\n",
    "    y, z = z, y\n",
    "print(w, x, y, z)"
   ]
  },
  {
   "cell_type": "markdown",
   "metadata": {},
   "source": [
    "4.写一个 Python 程序，输出 1-100 中的所有奇数"
   ]
  },
  {
   "cell_type": "code",
   "execution_count": 163,
   "metadata": {},
   "outputs": [
    {
     "name": "stdout",
     "output_type": "stream",
     "text": [
      "1 3 5 7 9 11 13 15 17 19 21 23 25 27 29 31 33 35 37 39 41 43 45 47 49 51 53 55 57 59 61 63 65 67 69 71 73 75 77 79 81 83 85 87 89 91 93 95 97 99 "
     ]
    }
   ],
   "source": [
    "for i in range(0,100):\n",
    "    if i % 2:\n",
    "        print(i, end=' ')"
   ]
  },
  {
   "cell_type": "markdown",
   "metadata": {},
   "source": [
    "5.写一个 Python 程序，用 for 循环，求解 1 到 100 的和"
   ]
  },
  {
   "cell_type": "code",
   "execution_count": 164,
   "metadata": {},
   "outputs": [
    {
     "name": "stdout",
     "output_type": "stream",
     "text": [
      "4950\n"
     ]
    }
   ],
   "source": [
    "sum = 0\n",
    "for i in range(0, 100):\n",
    "    sum += i\n",
    "print(sum)"
   ]
  },
  {
   "cell_type": "markdown",
   "metadata": {},
   "source": [
    "6.写一个 Python 程序，分别用 for 和 while 循环实现对一个给定序列的倒排序输出。例如，给定 L=[1,2,3,4,5]，输出为 [5,4,3,2,1]。"
   ]
  },
  {
   "cell_type": "code",
   "execution_count": 165,
   "metadata": {},
   "outputs": [
    {
     "name": "stdout",
     "output_type": "stream",
     "text": [
      "5 4 3 2 1 \n",
      "5 4 3 2 1 "
     ]
    }
   ],
   "source": [
    "L = [1, 2, 3, 4, 5] # 测试样例\n",
    "# for倒序输出L\n",
    "for i in range(len(L)):\n",
    "    print(L[len(L) - i - 1], end=' ')\n",
    "\n",
    "print()\n",
    "\n",
    "# while倒序输出L\n",
    "i = len(L) - 1\n",
    "while i >= 0:\n",
    "    print(L[i], end=' ')\n",
    "    i -= 1"
   ]
  },
  {
   "cell_type": "markdown",
   "metadata": {},
   "source": [
    "7.写一个 Python 程序，判断一个输入的字符串 S 是否包含由两个或两个以上连续出现的相同字符组成的字符串。例如，abccccda 中就包含 cccc 这个由 4 个连续字符组成的字符串"
   ]
  },
  {
   "cell_type": "code",
   "execution_count": 166,
   "metadata": {},
   "outputs": [
    {
     "name": "stdout",
     "output_type": "stream",
     "text": [
      "有4个连续字符c\n",
      "有2个连续字符a\n",
      "有5个连续字符c\n"
     ]
    }
   ],
   "source": [
    "s = 'abccccdaabcccccda'  # 测试样例\n",
    "count = 1\n",
    "tmp = 'a'\n",
    "for i in range(0, len(s) - 1):\n",
    "    if s[i] == s[i + 1]:\n",
    "        count += 1\n",
    "        tmp = s[i]\n",
    "    else:\n",
    "        if count >= 2:\n",
    "            print(\"有%d个连续字符%c\" % (count, tmp))\n",
    "            count = 1\n"
   ]
  },
  {
   "cell_type": "markdown",
   "metadata": {},
   "source": [
    "8.写一个 Python 程序，输入一个字符串 S，去掉其中所有的空格后输出。例如，“DataScience and Engineering”，去掉空格后为“DataScienceandEngineering”。"
   ]
  },
  {
   "cell_type": "code",
   "execution_count": 167,
   "metadata": {},
   "outputs": [
    {
     "name": "stdout",
     "output_type": "stream",
     "text": [
      "DataScienceandEngineering\n"
     ]
    }
   ],
   "source": [
    "s = \"Data Science and Engineering\"\n",
    "print(s.replace(' ',''))\n"
   ]
  },
  {
   "cell_type": "markdown",
   "metadata": {},
   "source": [
    "9.请设计一个求 3 次方根的算法（不允许直接调用求方根的函数），并给出对应的 Python 程序。 采用牛顿迭代法求解，迭代过程数学公式表示为$x_{n+1}=x_n-\\frac{f(x_n)}{f'(x_n)}$"
   ]
  },
  {
   "cell_type": "code",
   "execution_count": 168,
   "metadata": {},
   "outputs": [
    {
     "name": "stdout",
     "output_type": "stream",
     "text": [
      "27的三次方根是3.000000001793672\n"
     ]
    }
   ],
   "source": [
    "# 牛顿迭代法求三次方根\n",
    "# 即求x^3 = n的解，即函数f(x) = x^3 - n = 0的零点\n",
    "def Newton(n):\n",
    "    x = n  # 首项\n",
    "    error = 0.0001  # 误差\n",
    "    while abs(x**3 - n) >= error:\n",
    "        x = x - (x**3 - n) / (3*x**2)\n",
    "    return x\n",
    "\n",
    "n = 27\n",
    "print(f\"{n}的三次方根是{Newton(n)}\")\n"
   ]
  },
  {
   "cell_type": "markdown",
   "metadata": {},
   "source": [
    "10.写一个 Python 程序，给定一个常数 n（n>0），求 n 的阶乘，即 n!=1×2×...×(n-1)×n。例如，4!=24，5!=120。"
   ]
  },
  {
   "cell_type": "code",
   "execution_count": 169,
   "metadata": {},
   "outputs": [
    {
     "name": "stdout",
     "output_type": "stream",
     "text": [
      "1的阶乘是1\n",
      "2的阶乘是2\n",
      "3的阶乘是6\n",
      "4的阶乘是24\n",
      "5的阶乘是120\n",
      "6的阶乘是720\n",
      "7的阶乘是5040\n",
      "8的阶乘是40320\n",
      "9的阶乘是362880\n"
     ]
    }
   ],
   "source": [
    "def factor(n):\n",
    "    if n == 1:\n",
    "        return 1\n",
    "    else:\n",
    "        return n * factor(n - 1)\n",
    "for i in range(1, 10):\n",
    "    print(f\"{i}的阶乘是{factor(i)}\")"
   ]
  }
 ],
 "metadata": {
  "kernelspec": {
   "display_name": "my_kernal(base)",
   "language": "python",
   "name": "base"
  },
  "language_info": {
   "codemirror_mode": {
    "name": "ipython",
    "version": 3
   },
   "file_extension": ".py",
   "mimetype": "text/x-python",
   "name": "python",
   "nbconvert_exporter": "python",
   "pygments_lexer": "ipython3",
   "version": "3.11.7"
  }
 },
 "nbformat": 4,
 "nbformat_minor": 2
}
